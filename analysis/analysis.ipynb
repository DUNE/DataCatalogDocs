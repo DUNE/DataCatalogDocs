{
 "cells": [
  {
   "cell_type": "code",
   "execution_count": 1,
   "id": "428d20e6-1b5d-455d-b4f5-9f4c35e79285",
   "metadata": {},
   "outputs": [
    {
     "name": "stdout",
     "output_type": "stream",
     "text": [
      "Welcome to JupyROOT 6.24/02\n",
      "/Users/schellma/Dropbox/new/DataChallengeWork-Loginator/analysis/data\n",
      "['US_FermiGrid', 'BR_CBPF', 'FR_CCIN2P3', 'RU_JINR', 'UK_QMUL', 'UK_RAL-Tier1', 'US_Michigan', 'US_Wisconsin']\n"
     ]
    }
   ],
   "source": [
    "import ROOT\n",
    "import sys,os,string,json\n",
    "import makeCanvas\n",
    "\n",
    "from Utilities import getListOfTypes,maxval,movetofront,getMa\n",
    "\n",
    "def calculate(r=None):\n",
    "    if  \"job_cpu_time\" in r and \"job_wall_time\" in r and float(r[\"job_wall_time\"]) > 0:\n",
    "        r[\"job_efficiency\"] = float(r[\"job_cpu_time\"])/float(r[\"job_wall_time\"])\n",
    "    else:\n",
    "        r[\"job_efficiency\"] = -.1\n",
    "    if float(r[\"event_count\"]) > 0 :\n",
    "        r[\"time_per_event\"] = float(r[\"duration\"])/float(r[\"event_count\"])\n",
    "    \n",
    "\n",
    "here = os.path.join(os.getenv(\"PWD\"),\"data\")\n",
    "\n",
    "print (here)\n",
    "\n",
    "files = []\n",
    "for (path, dirnames, filenames) in os.walk(here):\n",
    "    for f in filenames:\n",
    "        if \"json\" in f and \"combined\" not in f:\n",
    "            files.append(os.path.join(path,f))\n",
    "            \n",
    "#print (files)\n",
    "\n",
    "data = []\n",
    "for f in files:\n",
    "    #print (f)\n",
    "    jsonfile = open(f,'r')\n",
    "    thing = json.load(jsonfile)\n",
    "    if thing[\"event_count\"] == 0 :\n",
    "        continue\n",
    "    data.append(thing)\n",
    "   # print (f,data)\n",
    "    jsonfile.close()\n",
    "    \n",
    "o = open(\"combined.json\",'w')\n",
    "json.dump(data,o)\n",
    "o.close()\n",
    "\n",
    "listofsites=getListOfTypes(data,\"job_site\",[])\n",
    "listofrses=getListofRse(data,\"rse\",[])\n",
    "listofsites=movetofront(listofsites,\"US_FermiGrid\")\n",
    "print (listofsites)"
   ]
  },
  {
   "cell_type": "code",
   "execution_count": 2,
   "id": "ff7963fe-ac93-4090-8b75-1ec71a22c650",
   "metadata": {},
   "outputs": [
    {
     "name": "stdout",
     "output_type": "stream",
     "text": [
      "sites ['US_FermiGrid', 'BR_CBPF', 'FR_CCIN2P3', 'RU_JINR', 'UK_QMUL', 'UK_RAL-Tier1', 'US_Michigan', 'US_Wisconsin']\n",
      "rses ['FNAL_DCACHE']\n",
      "users ['schellma']\n",
      "apps ['test', 'eventdump']\n",
      "tiers ['full-reconstructed']\n",
      "expts ['protodune-sp']\n"
     ]
    }
   ],
   "source": [
    "i = open(\"combined.json\",'r')\n",
    "records = json.load(i)\n",
    "#print (records)\n",
    "\n",
    "classtypes = {\"sites\":\"job_site\",\"rses\":\"rse\",\"users\":\"user\",\"apps\":\"application_name\",\"tiers\":\"data_tier\",\"expts\":\"run_type\"}#\"cpu\":\"job_cpu_time\",\"wall\":\"job_wall_time\"}\n",
    "\n",
    "#quantities = {\"art_cpu_efficiency\"}\n",
    "\n",
    "classlists = {}\n",
    "for c in classtypes:\n",
    "    classlists[c] = []\n",
    "    \n",
    "classlists[\"sites\"].append(\"US_FermiGrid\")\n",
    "\n",
    "for r in records:\n",
    "   # print (r)\n",
    "    for c in classtypes:\n",
    "        k = classtypes[c]\n",
    "        if k in r and r[k] not in classlists[c] and r[k] != None:\n",
    "            classlists[c].append(r[k])\n",
    " \n",
    "classlists[\"sites\"]=listofsites\n",
    "\n",
    "for c in classlists:\n",
    "    print (c, classlists[c])\n",
    "\n",
    "\n",
    "    \n",
    "    #print (r)\n",
    "    # if  \"job_cpu_time\" in r and \"job_wall_time\" in r and float(r[\"job_wall_time\"]) > 0:\n",
    "    #     r[\"job_art_cpu_efficiency\"] = float(r[\"job_cpu_time\"])/float(r[\"job_wall_time\"])\n",
    "    # else:\n",
    "    #     r[\"job_art_cpu_efficiency\"] = -.1\n",
    "    #print (r[\"job_site\"],r[\"job_art_cpu_efficiency\"])\n",
    "    "
   ]
  },
  {
   "cell_type": "code",
   "execution_count": null,
   "id": "afebca38-285e-4213-ae33-ef72aeebbe3a",
   "metadata": {},
   "outputs": [],
   "source": [
    "listofsites = getListOfTypes(data,\"job_site\",[])\n",
    "mapofsites = getMapOfTypes(listofsites)"
   ]
  },
  {
   "cell_type": "code",
   "execution_count": 3,
   "id": "f82a18e3-bf8f-4e4f-97ce-1c276d5d3d9b",
   "metadata": {},
   "outputs": [
    {
     "name": "stdout",
     "output_type": "stream",
     "text": [
      "US_FermiGrid\n",
      "BR_CBPF\n",
      "FR_CCIN2P3\n",
      "RU_JINR\n",
      "UK_QMUL\n",
      "UK_RAL-Tier1\n",
      "US_Michigan\n",
      "US_Wisconsin\n"
     ]
    }
   ],
   "source": [
    "hists = {}\n",
    "hists[\"art_cpu_efficiency\"]={}\n",
    "hists[\"art_cpu_efficiency\"][\"sites\"]={}\n",
    "hists[\"eff_vs_time_per_event\"]={}\n",
    "hists[\"eff_vs_time_per_event\"][\"sites\"]={}\n",
    "hists[\"startup_time\"]={}\n",
    "hists[\"startup_time\"][\"sites\"]={}\n",
    "i = 1\n",
    "for s in classlists[\"sites\"]:\n",
    "    print (s)\n",
    "    name = \"art_cpu_efficiency_\"\n",
    "    hists[\"art_cpu_efficiency\"][\"sites\"][s] = ROOT.TH1D(name+s,name,20,0.,1.)\n",
    "    hists[\"art_cpu_efficiency\"][\"sites\"][s].SetLineColor(i)\n",
    "    hists[\"art_cpu_efficiency\"][\"sites\"][s].GetXaxis().SetTitle(\"CPU art_cpu_efficiency\")\n",
    "    hists[\"art_cpu_efficiency\"][\"sites\"][s].GetYaxis().SetTitle(\"Number/bin\")\n",
    "    name = \"eff_vs_time_per_event_\"\n",
    "    hists[\"eff_vs_time_per_event\"][\"sites\"][s] = ROOT.TH2D(name+s,name,40,0.,100.,20,0.,1.)\n",
    "    hists[\"eff_vs_time_per_event\"][\"sites\"][s].SetLineColor(i)\n",
    "    hists[\"eff_vs_time_per_event\"][\"sites\"][s].GetYaxis().SetTitle(\"CPU art_cpu_efficiency\")\n",
    "    hists[\"eff_vs_time_per_event\"][\"sites\"][s].GetXaxis().SetTitle(\"time per event, seconds\")\n",
    "    name = \"startup_time_\"\n",
    "    hists[\"startup_time\"][\"sites\"][s] = ROOT.TH1D(name+s,name,70,0.,700.)\n",
    "    hists[\"startup_time\"][\"sites\"][s].SetLineColor(i)\n",
    "    hists[\"startup_time\"][\"sites\"][s].GetYaxis().SetTitle(\"Number/bin\")\n",
    "    hists[\"startup_time\"][\"sites\"][s].GetXaxis().SetTitle(\"startup time per job, seconds\")\n",
    "   \n",
    "   \n",
    "    \n",
    "    i+=1\n",
    "    if i == 5: i+=1\n",
    "    \n",
    "i = 1\n",
    "hists[\"art_cpu_efficiency\"][\"apps\"]={}\n",
    "for a in classlists[\"apps\"]:\n",
    "    name = \"cpu art_cpu_efficiency_\"\n",
    "    hists[\"art_cpu_efficiency\"][\"apps\"][a] = ROOT.TH1D(name+a,name,20,0.,1.)\n",
    "    hists[\"art_cpu_efficiency\"][\"apps\"][a].SetLineColor(i)\n",
    "    hists[\"art_cpu_efficiency\"][\"apps\"][a].GetXaxis().SetTitle(\"CPU art_cpu_efficiency\")\n",
    "    hists[\"art_cpu_efficiency\"][\"apps\"][a].GetYaxis().SetTitle(\"Number/bin\")\n",
    "    i +=1\n",
    "    "
   ]
  },
  {
   "cell_type": "code",
   "execution_count": 4,
   "id": "b3ed11a9-0b89-4833-a564-fac91b75e6d3",
   "metadata": {},
   "outputs": [],
   "source": [
    "    \n",
    "for r in records:\n",
    "    if \"job_site\" not in r:\n",
    "        continue\n",
    "    site = r[\"job_site\"]\n",
    "    if site == None:\n",
    "        continue\n",
    "    calculate(r)\n",
    "    if \"art_cpu_efficiency\" not in r: continue\n",
    "    eff = r[\"art_cpu_efficiency\"]\n",
    "    hists[\"art_cpu_efficiency\"][\"sites\"][site].Fill(eff)\n",
    "    if \"startup_time\" in r:\n",
    "        hists[\"startup_time\"][\"sites\"][site].Fill(r[\"startup_time\"])\n",
    "    hists[\"eff_vs_time_per_event\"][\"sites\"][site].Fill(r[\"time_per_event\"],eff)\n",
    "    if \"application_name\" not in r: continue\n",
    "    hists[\"art_cpu_efficiency\"][\"apps\"][r[\"application_name\"]].Fill(eff)\n",
    "    #print(r[\"time_per_event\"],eff)\n",
    "    "
   ]
  },
  {
   "cell_type": "code",
   "execution_count": 5,
   "id": "048ffb9a-b7bc-4b5e-bef1-df9b952a247f",
   "metadata": {},
   "outputs": [
    {
     "data": {
      "image/png": "[encoded data removed]",
      "text/plain": [
       "<IPython.core.display.Image object>"
      ]
     },
     "metadata": {},
     "output_type": "display_data"
    }
   ],
   "source": [
    "\n",
    "    \n",
    "ROOT.gStyle.SetOptStat(0)\n",
    "    \n",
    "name = \"efficiency\"\n",
    "c1 = ROOT.TCanvas(\"c1\",\"c1\",900,600)\n",
    "pad1 = ROOT.TPad(\" pad1 \",\" pad1 \" ,0 ,0.0 ,0.7 ,1)\n",
    "pad1.Draw ();\n",
    "pad1.cd ();\n",
    "\n",
    "#thelegend = makeCanvas.makeLegendPad(\"legend\")\n",
    "leg1 = ROOT.TLegend(0,0,1,1)\n",
    "\n",
    "\n",
    "m = maxval(histSet=hists[\"art_cpu_efficiency\"][\"sites\"])\n",
    "classlists[\"sites\"]=movetofront(classlists[\"sites\"],\"US_FermiGrid\")\n",
    "for s in classlists[\"sites\"]:\n",
    "    if s == classlists[\"sites\"][0]:\n",
    "        hists[\"art_cpu_efficiency\"][\"sites\"][s].SetMaximum(m*1.2)\n",
    "        hists[\"art_cpu_efficiency\"][\"sites\"][s].Draw()\n",
    "    else:\n",
    "        hists[\"art_cpu_efficiency\"][\"sites\"][s].Draw(\"same\")\n",
    "    leg1.AddEntry(hists[\"art_cpu_efficiency\"][\"sites\"][s],s,'ls')\n",
    "    \n",
    "c1.cd ();\n",
    "pad2 = ROOT.TPad(\" pad2 \",\" pad2 \" ,0.7 ,0.1 ,1 ,0.9);\n",
    "pad2.Draw();\n",
    "pad2.cd();\n",
    "leg1.Draw()\n",
    "\n",
    "c1.Draw()\n"
   ]
  },
  {
   "cell_type": "code",
   "execution_count": 6,
   "id": "2e63aebd-2052-4c07-a186-ba6288d570b8",
   "metadata": {},
   "outputs": [
    {
     "name": "stdout",
     "output_type": "stream",
     "text": [
      "max 27.0\n",
      "first US_FermiGrid\n",
      "TH1.Print Name  = startup_time_US_FermiGrid, Entries= 81, Total sum= 81\n",
      "TH1.Print Name  = startup_time_BR_CBPF, Entries= 33, Total sum= 33\n",
      "TH1.Print Name  = startup_time_FR_CCIN2P3, Entries= 4, Total sum= 4\n",
      "TH1.Print Name  = startup_time_RU_JINR, Entries= 1, Total sum= 1\n",
      "TH1.Print Name  = startup_time_UK_QMUL, Entries= 3, Total sum= 3\n",
      "TH1.Print Name  = startup_time_UK_RAL-Tier1, Entries= 66, Total sum= 66\n",
      "TH1.Print Name  = startup_time_US_Michigan, Entries= 6, Total sum= 6\n",
      "TH1.Print Name  = startup_time_US_Wisconsin, Entries= 1, Total sum= 1\n"
     ]
    },
    {
     "data": {
      "image/png": "[encoded data removed]",
      "text/plain": [
       "<IPython.core.display.Image object>"
      ]
     },
     "metadata": {},
     "output_type": "display_data"
    }
   ],
   "source": [
    "ROOT.gStyle.SetOptStat(0)\n",
    "\n",
    "name = \"statup time\"\n",
    "c3 = ROOT.TCanvas(\"c3\",\"c3\",900,600)\n",
    "\n",
    "pad13 = ROOT.TPad(\"pad13 \",\"pad13 \" ,0 ,0.0 ,0.7 ,1)\n",
    "pad13.Draw();\n",
    "pad13.cd();\n",
    "\n",
    "#thelegend = makeCanvas.makeLegendPad(\"legend\")\n",
    "leg13 = ROOT.TLegend(0,0,1,1)\n",
    "\n",
    "\n",
    "m = maxval(histSet=hists[\"startup_time\"][\"sites\"])\n",
    "print (\"max\",m)\n",
    "\n",
    "print (\"first\",classlists[\"sites\"][0])\n",
    "\n",
    "for s in classlists[\"sites\"]:\n",
    "    hists[\"startup_time\"][\"sites\"][s].Print(\"\")\n",
    "    if s == classlists[\"sites\"][0]:\n",
    "        hists[\"startup_time\"][\"sites\"][s].SetMaximum(m*1.2)\n",
    "        hists[\"startup_time\"][\"sites\"][s].Draw()\n",
    "    else:\n",
    "        hists[\"startup_time\"][\"sites\"][s].Draw(\"same\")\n",
    "    leg13.AddEntry(hists[\"startup_time\"][\"sites\"][s],s,'ls')\n",
    "\n",
    "\n",
    "c3.cd ();\n",
    "pad23 = ROOT.TPad(\" pad23 \",\" pad23 \" ,0.7 ,0.1 ,1 ,0.9);\n",
    "pad23.Draw();\n",
    "pad23.cd();\n",
    "leg13.Draw()\n",
    "\n",
    "c3.Draw()"
   ]
  },
  {
   "cell_type": "code",
   "execution_count": 7,
   "id": "40215545-ee87-48db-a933-7a653d5d1a0b",
   "metadata": {},
   "outputs": [
    {
     "data": {
      "image/png": "[encoded data removed]",
      "text/plain": [
       "<IPython.core.display.Image object>"
      ]
     },
     "metadata": {},
     "output_type": "display_data"
    }
   ],
   "source": [
    "c1a = ROOT.TCanvas(\"c1a\",\"c1a\",600,600)\n",
    "leg1a = ROOT.TLegend(0.85, 0.10, 1.00, 0.90)\n",
    "    \n",
    "for s in classlists[\"apps\"]:\n",
    "    if s == classlists[\"apps\"][0]:\n",
    "        hists[\"art_cpu_efficiency\"][\"apps\"][s].Draw()\n",
    "    else:\n",
    "        hists[\"art_cpu_efficiency\"][\"apps\"][s].Draw(\"same\")\n",
    "    leg1a.AddEntry(hists[\"art_cpu_efficiency\"][\"apps\"][s],s,'l')\n",
    "\n",
    "#leg1a.Draw()\n",
    "c1a.Draw()"
   ]
  },
  {
   "cell_type": "code",
   "execution_count": 8,
   "id": "4342834b-f7b4-4313-9458-ca1d3d574455",
   "metadata": {},
   "outputs": [
    {
     "data": {
      "image/png": "[encoded data removed]",
      "text/plain": [
       "<IPython.core.display.Image object>"
      ]
     },
     "metadata": {},
     "output_type": "display_data"
    }
   ],
   "source": [
    "c2 = makeCanvas.makeCanvas(\"c2\")\n",
    "c2.SetLogz()\n",
    "hists[\"eff_vs_time_per_event\"][\"sites\"][\"US_FermiGrid\"].Draw()\n",
    "leg2 = ROOT.TLegend(0.8, 0.50, 1.00, 0.90)\n",
    "    \n",
    "for s in classlists[\"sites\"]:\n",
    "    if s == classlists[\"sites\"][0]:\n",
    "        hists[\"eff_vs_time_per_event\"][\"sites\"][s].Draw(\"box\")\n",
    "    else:\n",
    "        hists[\"eff_vs_time_per_event\"][\"sites\"][s].Draw(\"box same\")\n",
    "    leg2.AddEntry(hists[\"eff_vs_time_per_event\"][\"sites\"][s],s,'l')\n",
    "\n",
    "leg2.Draw()\n",
    "c2.Draw()\n",
    "    \n",
    "        \n",
    "    \n",
    "    "
   ]
  },
  {
   "cell_type": "code",
   "execution_count": null,
   "id": "6b5e9986-2faa-4e43-9733-1a9f7262a1b7",
   "metadata": {},
   "outputs": [],
   "source": []
  }
 ],
 "metadata": {
  "kernelspec": {
   "display_name": "Python 3 (ipykernel)",
   "language": "python",
   "name": "python3"
  },
  "language_info": {
   "codemirror_mode": {
    "name": "ipython",
    "version": 3
   },
   "file_extension": ".py",
   "mimetype": "text/x-python",
   "name": "python",
   "nbconvert_exporter": "python",
   "pygments_lexer": "ipython3",
   "version": "3.9.7"
  }
 },
 "nbformat": 4,
 "nbformat_minor": 5
}
