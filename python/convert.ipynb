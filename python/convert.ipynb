{
 "cells": [
  {
   "cell_type": "code",
   "execution_count": 1,
   "id": "b4610701-3a88-42e0-8f8a-60186fde28bd",
   "metadata": {},
   "outputs": [],
   "source": [
    "import os,time,sys,datetime, glob, fnmatch,string,subprocess, json, csv, jsonlines\n",
    "\n",
    "# takes out put of findRequests and formats as csv and as a document\n",
    "\n",
    "\n",
    "# if len(sys.argv)>1:\n",
    "#     dname = sys.argv[1]\n",
    "# else:\n",
    "\n",
    "\n",
    "ignore = [\"query\",\"file_name\",\"start_time\",\"end_time\", 'artdaq-core.timestamp',\n",
    "          'artdaq-core.version', 'artdaq.timestamp', 'artdaq.version', \n",
    "          'dune-artdaq.timestamp', 'dune-artdaq.version', \n",
    "          'dune-raw-data.timestamp','file_count','total_file_size_GB', \n",
    "          \"total_event_count\",\"info.cpusec\",\n",
    "            \"info.memory\",\n",
    "            \"info.physicsgroup\",\n",
    "            \"info.wallsec\"]\n",
    "\n",
    "\n",
    "dname = 'all.jsonl'\n",
    "#dname = 'test.jsonl'\n",
    "\n",
    "DEBUG=False\n",
    "\n",
    "records = []\n",
    "if not \"jsonl\" in dname:\n",
    "    f = open(dname,'r')\n",
    "    j = json.load(f)\n",
    "    for obj in j:\n",
    "        records.append(j[obj])\n",
    "else:\n",
    "    f = jsonlines.open(dname,'r')\n",
    "    for obj in f:\n",
    "        records.append(obj)\n",
    "\n",
    "if DEBUG: print (records[1:10])\n",
    "        \n",
    "        "
   ]
  },
  {
   "cell_type": "code",
   "execution_count": 2,
   "id": "7058d562-3913-4e72-af77-407bc7827b5e",
   "metadata": {},
   "outputs": [
    {
     "name": "stdout",
     "output_type": "stream",
     "text": [
      "['user', 'file_type', 'file_format', 'data_tier', 'application', 'data_stream', 'run_type', 'detector.hv_value', 'dune-raw-data.version', 'dataset.tag', 'DUNE.campaign', 'DUNE.poms_campaign_id', 'DUNE.production_status', 'DUNE_MC.detector_type', 'DUNE_MC.electron_lifetime', 'DUNE_MC.with_cosmics', 'MC.with_cosmics', 'detector.hv_status', 'DUNE.requestid', 'DUNE.generators', 'DUNE_MC.beam_flux_ID', 'DUNE_MC.geometry_version', 'DUNE_MC.name', 'DUNE_MC.neutrino_flavors', 'DUNE_MC.TopVolume', 'LBNF_MC.HornCurrent', 'NearDetector_MC.OffAxisPosition', 'beam.momentum', 'beam.polarity', 'DUNE_MC.beam_energy', 'DUNE_MC.liquid_flow', 'DUNE_MC.space_charge', 'MC.liquid_flow', 'MC.space_charge', 'data_quality.online_good_run_list', 'DUNE_MC.generators', 'art.variation', 'DUNE.fcl_name', 'DUNE.fcl_path', 'DUNE.fcl_version_tag']\n"
     ]
    }
   ],
   "source": [
    "    \n",
    "\n",
    "fields = []\n",
    "unique = {}\n",
    "for record in records:\n",
    "    if DEBUG: print (record)\n",
    "    data = record\n",
    "    for entry in data:\n",
    "        if entry not in fields and entry != \"query\" and entry not in ignore:\n",
    "            fields.append(entry)\n",
    "            unique[entry] = []\n",
    "            \n",
    "print (fields)\n",
    "            "
   ]
  },
  {
   "cell_type": "code",
   "execution_count": 3,
   "id": "8e3b96c8-950c-4357-b9bb-0509a94e8195",
   "metadata": {},
   "outputs": [],
   "source": [
    "csvname = dname.replace(\"jsonl\",\"csv\")\n",
    "csvname = csvname.replace(\"json\",\"csv\")\n",
    "\n",
    "with open(csvname, 'w') as csvfile: \n",
    "    csvwriter = csv.writer(csvfile) \n",
    "        \n",
    "    # writing the fields \n",
    "    csvwriter.writerow(fields) \n",
    "\n",
    "    for record in records:\n",
    "        data = record\n",
    "        c = []\n",
    "        #print (data)\n",
    "        for field in fields:\n",
    "            if field in data:\n",
    "                c.append(data[field])\n",
    "                if data[field] not in unique[field] and field not in ignore:\n",
    "                    unique[field].append(data[field])\n",
    "            else:\n",
    "                c.append(\"\")\n",
    "        csvwriter.writerow(c)\n",
    "        \n",
    "sname = dname.replace('jsonl','md')\n",
    "sname = sname.replace('json','md')\n",
    "summary = open(sname,'w')\n",
    "\n",
    "explain = \"This is a list of sam parameters and their  values found in production files created between 2018 and 2023\\n\"\n",
    "\n",
    "summary.write(explain)\n",
    "\n",
    "               \n",
    "for x in unique:\n",
    "    s =  \"* %s\\n\"%x\n",
    "    summary.write(s)\n",
    "    for y in unique[x]:\n",
    "        s=\"    - %s\\n\"%y\n",
    "        summary.write(s)\n",
    "            \n",
    "    \n",
    "summary.close()\n",
    "    \n",
    "    \n",
    "            "
   ]
  },
  {
   "cell_type": "code",
   "execution_count": null,
   "id": "3f1f961a-a8ea-414a-8d98-1a1e00ed71d8",
   "metadata": {},
   "outputs": [],
   "source": []
  }
 ],
 "metadata": {
  "kernelspec": {
   "display_name": "Python 3 (ipykernel)",
   "language": "python",
   "name": "python3"
  },
  "language_info": {
   "codemirror_mode": {
    "name": "ipython",
    "version": 3
   },
   "file_extension": ".py",
   "mimetype": "text/x-python",
   "name": "python",
   "nbconvert_exporter": "python",
   "pygments_lexer": "ipython3",
   "version": "3.11.4"
  }
 },
 "nbformat": 4,
 "nbformat_minor": 5
}
